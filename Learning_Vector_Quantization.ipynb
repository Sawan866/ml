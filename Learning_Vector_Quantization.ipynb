{
  "nbformat": 4,
  "nbformat_minor": 0,
  "metadata": {
    "colab": {
      "provenance": [],
      "include_colab_link": true
    },
    "kernelspec": {
      "name": "python3",
      "display_name": "Python 3"
    },
    "language_info": {
      "name": "python"
    }
  },
  "cells": [
    {
      "cell_type": "markdown",
      "metadata": {
        "id": "view-in-github",
        "colab_type": "text"
      },
      "source": [
        "<a href=\"https://colab.research.google.com/github/Sawan866/ml/blob/main/Learning_Vector_Quantization.ipynb\" target=\"_parent\"><img src=\"https://colab.research.google.com/assets/colab-badge.svg\" alt=\"Open In Colab\"/></a>"
      ]
    },
    {
      "cell_type": "code",
      "execution_count": null,
      "metadata": {
        "colab": {
          "base_uri": "https://localhost:8080/"
        },
        "id": "4yPt83lAJjMs",
        "outputId": "f1357392-0825-47f2-adb2-d39beb196d0d"
      },
      "outputs": [
        {
          "output_type": "stream",
          "name": "stdout",
          "text": [
            "Sample T belongs to class :  0\n",
            "Trained weights :  [[0.3660931, 0.38165410000000005, 1, 1], [0.33661, 0.34390000000000004, 0, 1]]\n"
          ]
        }
      ],
      "source": [
        "import math\n",
        "class LVQ:  \n",
        "    # Function here computes the winning vector\n",
        "    # by Euclidean distance\n",
        "    def winner( self, weights, sample ) :\n",
        "          \n",
        "        D0 = 0\n",
        "        D1 = 0\n",
        "          \n",
        "        for i  in range( len( sample ) ) :\n",
        "            D0 = D0 + math.pow( ( sample[i] - weights[0][i] ), 2 )\n",
        "            D1 = D1 + math.pow( ( sample[i] - weights[1][i] ), 2 )\n",
        "              \n",
        "            if D0 > D1 :\n",
        "                return 0\n",
        "            else : \n",
        "                return 1\n",
        "  \n",
        "    # Function here updates the winning vector     \n",
        "    def update( self, weights, sample, J, alpha ) :\n",
        "        for i in range(len(weights)) :\n",
        "            weights[J][i] = weights[J][i] + alpha * ( sample[i] - weights[J][i] ) \n",
        "  \n",
        "# Driver code\n",
        "def main() :\n",
        "  \n",
        "    # Training Samples ( m, n ) with their class vector\n",
        "    X =  [[ 0, 0, 1, 1 ],  [ 1, 0, 0, 0 ], \n",
        "          [ 0, 0, 0, 1 ], [ 0, 1, 1, 0 ],\n",
        "          [ 1, 1, 0, 0 ], [ 1, 1, 1, 0 ],] \n",
        "  \n",
        "    Y = [ 0, 1, 0, 1, 1, 1 ]\n",
        "    m, n = len( X ), len( X[0] )\n",
        "      \n",
        "    # weight initialization ( n, c )\n",
        "    weights = []\n",
        "    weights.append( X.pop( 0 ) )\n",
        "    weights.append( X.pop( 1 ) )\n",
        "  \n",
        "    # Samples used in weight initialization will\n",
        "    # not use in training\n",
        "    m = m - 2\n",
        "      \n",
        "    # training\n",
        "    ob = LVQ()\n",
        "    epochs = 3\n",
        "    alpha = 0.1\n",
        "      \n",
        "    for i in range( epochs ) :\n",
        "        for j in range( m ) :\n",
        "              \n",
        "            # Sample selection\n",
        "            T = X[j]\n",
        "              \n",
        "            # Compute winner\n",
        "            J = ob.winner( weights, T )\n",
        "          \n",
        "            # Update weights\n",
        "            ob.update( weights, T, J, alpha )\n",
        "              \n",
        "    # classify new input sample\n",
        "    T = [ 0, 0, 1, 0 ]\n",
        "    J = ob.winner( weights, T )\n",
        "    print( \"Sample T belongs to class : \", J )\n",
        "    print( \"Trained weights : \", weights )\n",
        "      \n",
        "if __name__ == \"__main__\":\n",
        "    main()\n",
        "\n"
      ]
    }
  ]
}